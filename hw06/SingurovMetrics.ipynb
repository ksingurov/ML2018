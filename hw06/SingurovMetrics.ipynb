{
 "cells": [
  {
   "cell_type": "code",
   "execution_count": 15,
   "metadata": {
    "collapsed": true,
    "scrolled": true
   },
   "outputs": [],
   "source": [
    "from sklearn.datasets import load_breast_cancer\n",
    "from sklearn.linear_model import LogisticRegression\n",
    "from sklearn.metrics import recall_score, precision_score, make_scorer\n",
    "from sklearn.model_selection import GridSearchCV, RandomizedSearchCV\n",
    "import scipy\n",
    "import numpy as np\n",
    "\n",
    "cancer_data = load_breast_cancer()\n",
    "X=cancer_data.data\n",
    "y=cancer_data.target"
   ]
  },
  {
   "cell_type": "markdown",
   "metadata": {},
   "source": [
    "## Решение 1 задачи\n",
    "Максимизация $ recall $ при заданной вероятности, что текст помечен важным"
   ]
  },
  {
   "cell_type": "code",
   "execution_count": 16,
   "metadata": {
    "collapsed": true
   },
   "outputs": [],
   "source": [
    "alpha = 0.5"
   ]
  },
  {
   "cell_type": "code",
   "execution_count": 17,
   "metadata": {
    "collapsed": true,
    "scrolled": true
   },
   "outputs": [],
   "source": [
    "def custom_score_1 (y, probas, alpha):\n",
    "    probas_sorted=np.sort(probas[:,1])\n",
    "    i_treshold = round((1-alpha)*len(y))\n",
    "    threshold = probas_sorted[i_treshold]\n",
    "    y_preds = (probas[:,1] >= threshold).astype(int)\n",
    "    recall = recall_score(y, y_preds)\n",
    "    return recall\n",
    "\n",
    "my_score_1 = make_scorer(custom_score_1, needs_proba = True, alpha=alpha)"
   ]
  },
  {
   "cell_type": "code",
   "execution_count": 26,
   "metadata": {
    "collapsed": true,
    "scrolled": true
   },
   "outputs": [],
   "source": [
    "param_grid = {\n",
    "    #'C': [0.001, 0.01, 0.1, 1, 10, 100, 1000, 10000],\n",
    "    'C': [0.001, 0.01, 0.1, 1, 10, 100],\n",
    "    'penalty' : ['l1', 'l2'],\n",
    "    'fit_intercept': ['True','False'],\n",
    "    'max_iter': [100, 200, 500, 1000],\n",
    "    #'tol': [1e-2, 1e-4, 1e-6]\n",
    "}"
   ]
  },
  {
   "cell_type": "code",
   "execution_count": 27,
   "metadata": {
    "scrolled": true
   },
   "outputs": [
    {
     "name": "stdout",
     "output_type": "stream",
     "text": [
      "{'C': 1, 'fit_intercept': 'True', 'max_iter': 100, 'penalty': 'l1'}\n",
      "0.795528053049\n",
      "Wall time: 35.4 s\n"
     ]
    }
   ],
   "source": [
    "%%time\n",
    "\n",
    "clf_grid_my_score_1 = GridSearchCV(LogisticRegression(), param_grid, scoring = my_score_1)\n",
    "clf_grid_my_score_1.fit(X,y)\n",
    "\n",
    "print(clf_grid_my_score_1.best_params_)\n",
    "print(clf_grid_my_score_1.best_score_)"
   ]
  },
  {
   "cell_type": "code",
   "execution_count": 28,
   "metadata": {
    "scrolled": true
   },
   "outputs": [
    {
     "name": "stdout",
     "output_type": "stream",
     "text": [
      "{'C': 8.3935330119323002, 'fit_intercept': 'True', 'max_iter': 125, 'penalty': 'l2'}\n",
      "0.795528053049\n",
      "Wall time: 52.7 s\n"
     ]
    }
   ],
   "source": [
    "%%time\n",
    "\n",
    "param_distributions = {\n",
    "    'C': scipy.stats.uniform(0, 10),\n",
    "    'penalty' : ['l1', 'l2'],\n",
    "    'fit_intercept': ['True','False'],\n",
    "    'max_iter': scipy.stats.randint(50, 200),\n",
    "    #'tol': [1e-2, 1e-4, 1e-6]\n",
    "}\n",
    "\n",
    "clf_rand_my_score_1 = RandomizedSearchCV(LogisticRegression(), param_distributions, n_iter=100, scoring = my_score_1)\n",
    "clf_rand_my_score_1.fit(X,y)\n",
    "\n",
    "print(clf_rand_my_score_1.best_params_)\n",
    "print(clf_rand_my_score_1.best_score_)"
   ]
  },
  {
   "cell_type": "code",
   "execution_count": 29,
   "metadata": {
    "scrolled": true
   },
   "outputs": [
    {
     "name": "stdout",
     "output_type": "stream",
     "text": [
      "{'C': 100, 'fit_intercept': 'True', 'max_iter': 100, 'penalty': 'l1'}\n",
      "0.96309314587\n",
      "Wall time: 36 s\n"
     ]
    }
   ],
   "source": [
    "%%time\n",
    "\n",
    "clf_grid_accuracy_1 = GridSearchCV(LogisticRegression(), param_grid, scoring = 'accuracy')\n",
    "clf_grid_accuracy_1.fit(X,y)\n",
    "\n",
    "print(clf_grid_accuracy_1.best_params_)\n",
    "print(clf_grid_accuracy_1.best_score_)"
   ]
  },
  {
   "cell_type": "code",
   "execution_count": 30,
   "metadata": {
    "scrolled": true
   },
   "outputs": [
    {
     "name": "stdout",
     "output_type": "stream",
     "text": [
      "{'C': 93.858194683080711, 'fit_intercept': 'True', 'max_iter': 66, 'penalty': 'l1'}\n",
      "0.96309314587\n",
      "Wall time: 1min 35s\n"
     ]
    }
   ],
   "source": [
    "%%time\n",
    "\n",
    "param_distributions = {\n",
    "    'C': scipy.stats.uniform(50, 500),\n",
    "    'penalty' : ['l1', 'l2'],\n",
    "    'fit_intercept': ['True','False'],\n",
    "    'max_iter': scipy.stats.randint(50, 200),\n",
    "    #'tol': [1e-2, 1e-4, 1e-6]\n",
    "}\n",
    "\n",
    "clf_rand_accuracy_1 = RandomizedSearchCV(LogisticRegression(), param_distributions, n_iter=100, scoring = 'accuracy')\n",
    "clf_rand_accuracy_1.fit(X,y)\n",
    "\n",
    "print(clf_rand_accuracy_1.best_params_)\n",
    "print(clf_rand_accuracy_1.best_score_)"
   ]
  },
  {
   "cell_type": "markdown",
   "metadata": {},
   "source": [
    "## Решение 2 задачи\n",
    "Максимизация $ precision $ при заданном $ recall $"
   ]
  },
  {
   "cell_type": "code",
   "execution_count": 31,
   "metadata": {
    "collapsed": true
   },
   "outputs": [],
   "source": [
    "given_recall = 0.99"
   ]
  },
  {
   "cell_type": "code",
   "execution_count": 32,
   "metadata": {
    "collapsed": true
   },
   "outputs": [],
   "source": [
    "def custom_score_2 (y, probas, given_recall):\n",
    "    probas_sorted=np.sort(probas[:,1])\n",
    "    n_treshold = round( sum(y)*(1-given_recall) ).astype(int)\n",
    "    threshold = probas_sorted[n_treshold]\n",
    "    y_preds = (probas[:,1] >= threshold).astype(int)\n",
    "    precision = precision_score(y, y_preds)\n",
    "    return precision\n",
    "\n",
    "my_score_2 = make_scorer(custom_score_2, needs_proba = True, given_recall=given_recall)"
   ]
  },
  {
   "cell_type": "code",
   "execution_count": 33,
   "metadata": {},
   "outputs": [
    {
     "name": "stdout",
     "output_type": "stream",
     "text": [
      "{'C': 0.001, 'fit_intercept': 'True', 'max_iter': 100, 'penalty': 'l1'}\n",
      "0.630742070268\n",
      "Wall time: 36.9 s\n"
     ]
    }
   ],
   "source": [
    "%%time\n",
    "\n",
    "clf_grid_my_score_2 = GridSearchCV(LogisticRegression(), param_grid, scoring = my_score_2)\n",
    "clf_grid_my_score_2.fit(X,y)\n",
    "\n",
    "print(clf_grid_my_score_2.best_params_)\n",
    "print(clf_grid_my_score_2.best_score_)"
   ]
  },
  {
   "cell_type": "code",
   "execution_count": 34,
   "metadata": {},
   "outputs": [
    {
     "name": "stdout",
     "output_type": "stream",
     "text": [
      "{'C': 0.00019257069845936232, 'fit_intercept': 'False', 'max_iter': 104, 'penalty': 'l2'}\n",
      "0.630742070268\n",
      "Wall time: 1.57 s\n"
     ]
    }
   ],
   "source": [
    "%%time\n",
    "\n",
    "param_distributions = {\n",
    "    'C': scipy.stats.uniform(0, 0.0005),\n",
    "    'penalty' : ['l1', 'l2'],\n",
    "    'fit_intercept': ['True','False'],\n",
    "    'max_iter': scipy.stats.randint(50, 150),\n",
    "    #'tol': [1e-2, 1e-4, 1e-6]\n",
    "}\n",
    "\n",
    "clf_rand_my_score_2 = RandomizedSearchCV(LogisticRegression(), param_distributions, n_iter=100, scoring = my_score_2)\n",
    "clf_rand_my_score_2.fit(X,y)\n",
    "\n",
    "print(clf_rand_my_score_2.best_params_)\n",
    "print(clf_rand_my_score_2.best_score_)"
   ]
  },
  {
   "cell_type": "code",
   "execution_count": null,
   "metadata": {
    "collapsed": true
   },
   "outputs": [],
   "source": []
  }
 ],
 "metadata": {
  "kernelspec": {
   "display_name": "Python 3",
   "language": "python",
   "name": "python3"
  },
  "language_info": {
   "codemirror_mode": {
    "name": "ipython",
    "version": 3
   },
   "file_extension": ".py",
   "mimetype": "text/x-python",
   "name": "python",
   "nbconvert_exporter": "python",
   "pygments_lexer": "ipython3",
   "version": "3.6.3"
  }
 },
 "nbformat": 4,
 "nbformat_minor": 2
}
