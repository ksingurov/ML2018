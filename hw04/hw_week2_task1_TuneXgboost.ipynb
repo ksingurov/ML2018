{
 "cells": [
  {
   "cell_type": "code",
   "execution_count": null,
   "metadata": {
    "collapsed": true
   },
   "outputs": [],
   "source": [
    "from sklearn.model_selection import cross_val_score\n",
    "import xgboost as xgb\n",
    "import pandas\n",
    "import numpy as np\n",
    "import signal\n",
    "\n",
    "bioresponce = pandas.read_csv('bioresponse.csv', header=0, sep=',')\n",
    "bioresponce_target = bioresponce.Activity.values\n",
    "bioresponce_data = bioresponce.iloc[:, 1:]\n",
    "\n",
    "#def signal_handler(signum, frame):\n",
    "#    raise Exception(\"Timed out!\")\n",
    "\n",
    "def estimate_params(params):\n",
    "#    signal.signal(signal.SIGALRM, signal_handler)\n",
    "#    signal.alarm(30)\n",
    "    estimator = xgb.XGBClassifier(**params)\n",
    "\n",
    "    try:\n",
    "        score = np.mean(cross_val_score(\n",
    "            estimator, bioresponce_data, bioresponce_target,\n",
    "            scoring = 'accuracy', cv = 3\n",
    "        ))\n",
    "    except Exception:\n",
    "        score = None\n",
    "    \n",
    "    return score"
   ]
  },
  {
   "cell_type": "markdown",
   "metadata": {},
   "source": [
    "#### Набор исходных парамертов 1"
   ]
  },
  {
   "cell_type": "code",
   "execution_count": null,
   "metadata": {
    "collapsed": true
   },
   "outputs": [],
   "source": [
    "start_time = time.time()\n",
    "print(\"score\", estimate_params({\n",
    "    'learning_rate': 0.1, \n",
    "    'max_depth': 5, \n",
    "    'n_estimators': 100, \n",
    "    'min_child_weight': 3,\n",
    "    'seed': 42\n",
    "}))\n",
    "print(\"time spent %s seconds\", round( (time.time() - start_time), 2) )"
   ]
  },
  {
   "cell_type": "markdown",
   "metadata": {},
   "source": [
    "#### Набор исходных парамертов 2"
   ]
  },
  {
   "cell_type": "code",
   "execution_count": null,
   "metadata": {
    "collapsed": true
   },
   "outputs": [],
   "source": [
    "start_time = time.time()\n",
    "print(\"score\", estimate_params({\n",
    "    'learning_rate': 0.1, \n",
    "    'max_depth': 5, \n",
    "    'n_estimators': 100000, \n",
    "    'min_child_weight': 3,\n",
    "    'seed': 42\n",
    "}))\n",
    "print(\"time spent %s seconds\", round( (time.time() - start_time), 2) )"
   ]
  },
  {
   "cell_type": "markdown",
   "metadata": {},
   "source": [
    "#### Оптимальные набор параметров"
   ]
  },
  {
   "cell_type": "code",
   "execution_count": null,
   "metadata": {
    "collapsed": true
   },
   "outputs": [],
   "source": [
    "start_time = time.time()\n",
    "print(\"score\", estimate_params({\n",
    "    'learning_rate': 0.11, \n",
    "    'max_depth': 5, \n",
    "    'n_estimators': 1000, \n",
    "    'min_child_weight': 3,\n",
    "    'seed': 42\n",
    "}))\n",
    "print(\"time spent %s seconds\", round( (time.time() - start_time), 2) )"
   ]
  }
 ],
 "metadata": {
  "kernelspec": {
   "display_name": "Python 3",
   "language": "python",
   "name": "python3"
  },
  "language_info": {
   "codemirror_mode": {
    "name": "ipython",
    "version": 3
   },
   "file_extension": ".py",
   "mimetype": "text/x-python",
   "name": "python",
   "nbconvert_exporter": "python",
   "pygments_lexer": "ipython3",
   "version": "3.6.3"
  }
 },
 "nbformat": 4,
 "nbformat_minor": 2
}
