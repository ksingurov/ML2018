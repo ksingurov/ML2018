{
 "cells": [
  {
   "cell_type": "code",
   "execution_count": null,
   "metadata": {
    "collapsed": true
   },
   "outputs": [],
   "source": [
    "import requests\n",
    "from bs4 import BeautifulSoup\n",
    "import json"
   ]
  },
  {
   "cell_type": "code",
   "execution_count": null,
   "metadata": {},
   "outputs": [],
   "source": [
    "def extract_info(response_item):\n",
    "    #название отзыва, полный текст отзыва и ссылка на него\n",
    "    response_title = response_item.find(\"a\", attrs={\"class\": \"font-size-large font-bold\"})\n",
    "    response_name = response_title.text\n",
    "    #print(response_name)\n",
    "    \n",
    "    link = response_title.get('href')\n",
    "    response_url = \"http://www.banki.ru{}\".format(link)\n",
    "    \n",
    "    response = requests.get(response_url)\n",
    "    soup = BeautifulSoup(response.text, 'html.parser')\n",
    "    response_text = soup.find(\"div\",\n",
    "                              attrs={\"class\": \"article-text response-page__text markup-inside-small markup-inside-small--bullet\"}\n",
    "                             ).text.strip()\n",
    "    \n",
    "    #оценка и статус проверки\n",
    "    response_rating = response_item.find(\"div\", attrs={\"class\": \"responses__item__rating\"})\n",
    "    is_grade = 'БЕЗ ОЦЕНКИ' in response_rating.text\n",
    "    if is_grade == False:\n",
    "        response_grade = response_item.find(\"span\", attrs={\"itemtype\": \"http://data-vocabulary.org/Rating\"}).text.strip()\n",
    "        problem_solved = 'ПРОБЛЕМА РЕШЕНА' in response_rating.text\n",
    "    else:\n",
    "        response_grade = None\n",
    "        problem_solved = None\n",
    "    \n",
    "    #дата публикации\n",
    "    response_time_html = response_item.find(\"time\", attrs={\"class\": \"display-inline-block\"})\n",
    "    if response_time_html != None:\n",
    "        response_time = response_time_html.text\n",
    "    else:\n",
    "        response_time = None\n",
    "    \n",
    "    #название банка\n",
    "    bank_name = response_item.find(\"a\", attrs={\"class\": \"responses__item__logo lazy-load\"}).get('title')\n",
    "    \n",
    "    return{\n",
    "        'response_name': response_name,\n",
    "        'response_url': response_url,\n",
    "        'response_text': response_text,\n",
    "        'response_grade': response_grade,\n",
    "        'problem_solved': problem_solved,\n",
    "        'response_time': response_time,\n",
    "        'bank_name': bank_name\n",
    "    }"
   ]
  },
  {
   "cell_type": "code",
   "execution_count": null,
   "metadata": {},
   "outputs": [],
   "source": [
    "%%time\n",
    "\n",
    "is_countable = True  #учитывать только зачтенные отзывы?\n",
    "max_sample_size = 5000  #размер выборки\n",
    "\n",
    "sample_size = 0\n",
    "page_num = 0\n",
    "bank_responses_info = []\n",
    "\n",
    "while True:\n",
    "    page_num += 1\n",
    "    if is_countable == True:\n",
    "        url = \"http://www.banki.ru/services/responses/list/?is_countable=on&page={}\".format(page_num)\n",
    "    else:\n",
    "        url = \"http://www.banki.ru/services/responses/list/?page={}\".format(page_num)\n",
    "    response = requests.get(url)\n",
    "    soup = BeautifulSoup(response.text, 'html.parser')\n",
    "    for x in soup.find_all(\"article\", attrs={\"class\": \"responses__item\"}):\n",
    "        sample_size += 1\n",
    "        bank_responses_info.append(extract_info(x))\n",
    "    print ('page_num {}'.format(page_num), ' -> ', sample_size)\n",
    "    if sample_size == max_sample_size:\n",
    "        break"
   ]
  },
  {
   "cell_type": "code",
   "execution_count": null,
   "metadata": {},
   "outputs": [],
   "source": [
    "with open('bank_responses_info.json', 'w') as f:\n",
    "    json.dump(bank_responses_info, f)"
   ]
  },
  {
   "cell_type": "code",
   "execution_count": null,
   "metadata": {
    "collapsed": true
   },
   "outputs": [],
   "source": [
    "with open('100_responses_info.json', 'w') as f:\n",
    "    json.dump(bank_responses_info[:100], f)"
   ]
  }
 ],
 "metadata": {
  "kernelspec": {
   "display_name": "Python 3",
   "language": "python",
   "name": "python3"
  },
  "language_info": {
   "codemirror_mode": {
    "name": "ipython",
    "version": 3
   },
   "file_extension": ".py",
   "mimetype": "text/x-python",
   "name": "python",
   "nbconvert_exporter": "python",
   "pygments_lexer": "ipython3",
   "version": "3.6.3"
  }
 },
 "nbformat": 4,
 "nbformat_minor": 2
}
