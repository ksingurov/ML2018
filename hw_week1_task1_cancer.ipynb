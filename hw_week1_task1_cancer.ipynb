{
 "cells": [
  {
   "cell_type": "code",
   "execution_count": 85,
   "metadata": {
    "collapsed": true
   },
   "outputs": [],
   "source": [
    "from sklearn.datasets import load_breast_cancer\n",
    "from sklearn.model_selection import train_test_split\n",
    "from sklearn.linear_model import LogisticRegression\n",
    "from sklearn.model_selection import GridSearchCV\n",
    "import json\n",
    "\n",
    "cancer_data = load_breast_cancer()\n",
    "X=cancer_data.data\n",
    "y=cancer_data.target\n",
    "X_train, X_test, y_train, y_test = train_test_split(X, y, test_size=0.33, random_state=42)\n",
    "\n",
    "random_state=42\n",
    "LogR = LogisticRegression(random_state)\n",
    "param_grid={'C': [0.0001, 0.001, 0.01, 0.1, 1, 10, 100, 1000, 10000], 'penalty' : ['l1', 'l2']}\n",
    "GridS = GridSearchCV(LogR, param_grid)\n",
    "GridS.fit(X_train, y_train)\n",
    "\n",
    "#print('Estimator with optimal parameters:\\n ', GridS.best_estimator_)\n",
    "#print('Optimal norm for regularization is:\\n  penlty = ', GridS.best_estimator_.penalty)\n",
    "#print('Optimal value of parameter C is equal to:\\n  C = ', GridS.best_estimator_.C)\n",
    "#print(GridS.best_estimator_.coef_)\n",
    "\n",
    "classification_params=GridS.best_params_\n",
    "classification_params.update({'random_state':random_state})\n",
    "with open('classification_params.json', 'x') as new_file:\n",
    "    json.dump(classification_params, new_file)"
   ]
  },
  {
   "cell_type": "code",
   "execution_count": null,
   "metadata": {
    "collapsed": true
   },
   "outputs": [],
   "source": []
  }
 ],
 "metadata": {
  "kernelspec": {
   "display_name": "Python 3",
   "language": "python",
   "name": "python3"
  },
  "language_info": {
   "codemirror_mode": {
    "name": "ipython",
    "version": 3
   },
   "file_extension": ".py",
   "mimetype": "text/x-python",
   "name": "python",
   "nbconvert_exporter": "python",
   "pygments_lexer": "ipython3",
   "version": "3.6.3"
  }
 },
 "nbformat": 4,
 "nbformat_minor": 2
}
